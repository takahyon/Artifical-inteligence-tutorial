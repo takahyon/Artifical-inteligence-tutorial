{
 "cells": [
  {
   "cell_type": "markdown",
   "metadata": {
    "id": "eFUgmWtcTuW6",
    "colab_type": "text"
   },
   "source": [
    "### 内包表記"
   ]
  },
  {
   "cell_type": "code",
   "execution_count": 0,
   "metadata": {
    "id": "pddA3QALUrcj",
    "colab_type": "code",
    "colab": {}
   },
   "outputs": [],
   "source": [
    ""
   ]
  },
  {
   "cell_type": "markdown",
   "metadata": {
    "id": "_mwnwaYljSjZ",
    "colab_type": "text"
   },
   "source": [
    "内包表記とif 文"
   ]
  },
  {
   "cell_type": "code",
   "execution_count": 0,
   "metadata": {
    "id": "JctZFqHqjS3F",
    "colab_type": "code",
    "colab": {}
   },
   "outputs": [],
   "source": [
    ""
   ]
  },
  {
   "cell_type": "markdown",
   "metadata": {
    "id": "HcUr0JuUk15U",
    "colab_type": "text"
   },
   "source": [
    "内包表記と2重ループ"
   ]
  },
  {
   "cell_type": "code",
   "execution_count": 0,
   "metadata": {
    "id": "2WyyI5ucjjln",
    "colab_type": "code",
    "colab": {}
   },
   "outputs": [],
   "source": [
    ""
   ]
  },
  {
   "cell_type": "markdown",
   "metadata": {
    "id": "_yhoD4xXlGDF",
    "colab_type": "text"
   },
   "source": [
    "[練習問題]  \"apple\", \"orange\", \"strawberry\" の3つの単語の中に使われているアルファベットの数を計算しなさい．"
   ]
  },
  {
   "cell_type": "code",
   "execution_count": 0,
   "metadata": {
    "id": "YWndj1GhlGRh",
    "colab_type": "code",
    "colab": {}
   },
   "outputs": [],
   "source": [
    ""
   ]
  },
  {
   "cell_type": "markdown",
   "metadata": {
    "id": "ZO-NzxujjkhX",
    "colab_type": "text"
   },
   "source": [
    " 内包表記による辞書の作成"
   ]
  },
  {
   "cell_type": "code",
   "execution_count": 0,
   "metadata": {
    "id": "8YxuiVlHUeRh",
    "colab_type": "code",
    "colab": {}
   },
   "outputs": [],
   "source": [
    ""
   ]
  },
  {
   "cell_type": "markdown",
   "metadata": {
    "id": "Tr7rJ0YiV6ao",
    "colab_type": "text"
   },
   "source": [
    "### Numpy : ndarray オブジェクト"
   ]
  },
  {
   "cell_type": "markdown",
   "metadata": {
    "id": "vq1r2Vcnl0cF",
    "colab_type": "text"
   },
   "source": [
    "numpy の import  "
   ]
  },
  {
   "cell_type": "code",
   "execution_count": 0,
   "metadata": {
    "id": "jSKvCZTOWcJ3",
    "colab_type": "code",
    "colab": {}
   },
   "outputs": [],
   "source": [
    ""
   ]
  },
  {
   "cell_type": "markdown",
   "metadata": {
    "id": "JN7UMj9Wl0-t",
    "colab_type": "text"
   },
   "source": [
    " numpy 配列の初期化：\n",
    "  * リスト からnumpy配列 へ変換する \n",
    "  * [0,1...,n] と数字がならんだnumpy 配列を作成する．\n",
    "  * 全て0の，長さn のnumpy 配列を作成する．\n",
    "  * 全て1の，長さn のnumpy 配列を作成する．"
   ]
  },
  {
   "cell_type": "code",
   "execution_count": 0,
   "metadata": {
    "id": "ByB6sGoFVZUU",
    "colab_type": "code",
    "colab": {}
   },
   "outputs": [],
   "source": [
    ""
   ]
  },
  {
   "cell_type": "markdown",
   "metadata": {
    "id": "KtBYv3Xcmgy0",
    "colab_type": "text"
   },
   "source": [
    "numpy 配列に対する 小数(float) や 整数(int)による基本演算\n",
    "  * \\+,    \\-,     \\*,    /,   //,    %   など"
   ]
  },
  {
   "cell_type": "code",
   "execution_count": 0,
   "metadata": {
    "id": "yE0Oo8cnWLug",
    "colab_type": "code",
    "colab": {}
   },
   "outputs": [],
   "source": [
    ""
   ]
  },
  {
   "cell_type": "markdown",
   "metadata": {
    "id": "zCdHlXV0nVbW",
    "colab_type": "text"
   },
   "source": [
    "ブーリアン の numpy 配列と 演算\n",
    "   * ==,  !=,  and, or など"
   ]
  },
  {
   "cell_type": "code",
   "execution_count": 0,
   "metadata": {
    "id": "9C8fQUEQnVjn",
    "colab_type": "code",
    "colab": {}
   },
   "outputs": [],
   "source": [
    ""
   ]
  },
  {
   "cell_type": "markdown",
   "metadata": {
    "id": "cgKPzZJSm3n7",
    "colab_type": "text"
   },
   "source": [
    " numpy 配列の型の変更方法\n",
    "   *  astype()\n",
    "   *  dtype = ..."
   ]
  },
  {
   "cell_type": "code",
   "execution_count": 0,
   "metadata": {
    "id": "2NSckJFIm3xE",
    "colab_type": "code",
    "colab": {}
   },
   "outputs": [],
   "source": [
    ""
   ]
  },
  {
   "cell_type": "markdown",
   "metadata": {
    "id": "l8MmlEcmXemd",
    "colab_type": "text"
   },
   "source": [
    "### ndarray の shape "
   ]
  },
  {
   "cell_type": "markdown",
   "metadata": {
    "id": "mJGSVnsooF9T",
    "colab_type": "text"
   },
   "source": [
    "2 次元配列の作成\n",
    "  * np.zeros"
   ]
  },
  {
   "cell_type": "code",
   "execution_count": 0,
   "metadata": {
    "id": "Gm3hDPpPXddo",
    "colab_type": "code",
    "colab": {}
   },
   "outputs": [],
   "source": [
    ""
   ]
  },
  {
   "cell_type": "markdown",
   "metadata": {
    "id": "rdrEDQJBoMtv",
    "colab_type": "text"
   },
   "source": [
    "shape の確認方法"
   ]
  },
  {
   "cell_type": "code",
   "execution_count": 0,
   "metadata": {
    "id": "-Yb0MyHOoLF3",
    "colab_type": "code",
    "colab": {}
   },
   "outputs": [],
   "source": [
    ""
   ]
  },
  {
   "cell_type": "markdown",
   "metadata": {
    "id": "AXgu6BRVoSvl",
    "colab_type": "text"
   },
   "source": [
    "shape の変更方法\n",
    " * reshape\n"
   ]
  },
  {
   "cell_type": "code",
   "execution_count": 0,
   "metadata": {
    "id": "VG68_25ooS6T",
    "colab_type": "code",
    "colab": {}
   },
   "outputs": [],
   "source": [
    ""
   ]
  },
  {
   "cell_type": "markdown",
   "metadata": {
    "id": "Uut0Kfaq5kLu",
    "colab_type": "text"
   },
   "source": [
    "2次以上のnumpy 配列に対する要素へのアクセス"
   ]
  },
  {
   "cell_type": "code",
   "execution_count": 0,
   "metadata": {
    "id": "kHf54def5kW-",
    "colab_type": "code",
    "colab": {}
   },
   "outputs": [],
   "source": [
    ""
   ]
  },
  {
   "cell_type": "markdown",
   "metadata": {
    "id": "K-NtnPbxccu9",
    "colab_type": "text"
   },
   "source": [
    "###  numpy 配列同士の演算と ブロードキャスト"
   ]
  },
  {
   "cell_type": "markdown",
   "metadata": {
    "id": "Fa-p5oMa33Dd",
    "colab_type": "text"
   },
   "source": [
    "numpy 配列同士の演算 (shape が同じ時)"
   ]
  },
  {
   "cell_type": "code",
   "execution_count": 0,
   "metadata": {
    "id": "RiPO0C7jb1Vm",
    "colab_type": "code",
    "colab": {}
   },
   "outputs": [],
   "source": [
    ""
   ]
  },
  {
   "cell_type": "markdown",
   "metadata": {
    "id": "_reCNEp-33u5",
    "colab_type": "text"
   },
   "source": [
    "numpy 配列同士の演算(ブロードキャスト)"
   ]
  },
  {
   "cell_type": "code",
   "execution_count": 0,
   "metadata": {
    "id": "Kl1hQaM0c-d9",
    "colab_type": "code",
    "colab": {}
   },
   "outputs": [],
   "source": [
    ""
   ]
  },
  {
   "cell_type": "markdown",
   "metadata": {
    "id": "lHj8HRC2ZVCG",
    "colab_type": "text"
   },
   "source": [
    "### スライシング"
   ]
  },
  {
   "cell_type": "markdown",
   "metadata": {
    "id": "WVM8orzM4T13",
    "colab_type": "text"
   },
   "source": [
    "5*5 の配列を用意"
   ]
  },
  {
   "cell_type": "code",
   "execution_count": 0,
   "metadata": {
    "id": "amBixfyrZamF",
    "colab_type": "code",
    "colab": {}
   },
   "outputs": [],
   "source": [
    ""
   ]
  },
  {
   "cell_type": "markdown",
   "metadata": {
    "id": "Uuk9hzsG4i5r",
    "colab_type": "text"
   },
   "source": [
    "スライシングの書き方\n",
    "\n",
    "> a[ start : end ] \n",
    "\n",
    "> a[ start : end : step ]\n"
   ]
  },
  {
   "cell_type": "code",
   "execution_count": 0,
   "metadata": {
    "id": "iHqNm3tmZjnn",
    "colab_type": "code",
    "colab": {}
   },
   "outputs": [],
   "source": [
    ""
   ]
  },
  {
   "cell_type": "markdown",
   "metadata": {
    "id": "Z5V1SoPx5Oi5",
    "colab_type": "text"
   },
   "source": [
    "start や end は省略できる (省略した場合は最後または最初) "
   ]
  },
  {
   "cell_type": "code",
   "execution_count": 0,
   "metadata": {
    "id": "Xc5OFUX6ZqrT",
    "colab_type": "code",
    "colab": {}
   },
   "outputs": [],
   "source": [
    ""
   ]
  },
  {
   "cell_type": "markdown",
   "metadata": {
    "id": "TmqCUf3M57oN",
    "colab_type": "text"
   },
   "source": [
    " 全ての範囲  (start, end 両方省略 )\n",
    "   * x[ : ]"
   ]
  },
  {
   "cell_type": "markdown",
   "metadata": {
    "id": "37Ry_mMs5XzS",
    "colab_type": "text"
   },
   "source": [
    "start や end には 負の値も代入できる．\n",
    "  * -1 = 最後の要素をあらわす"
   ]
  },
  {
   "cell_type": "code",
   "execution_count": 0,
   "metadata": {
    "id": "GGA4M1YjZvs4",
    "colab_type": "code",
    "colab": {}
   },
   "outputs": [],
   "source": [
    ""
   ]
  },
  {
   "cell_type": "markdown",
   "metadata": {
    "id": "UnDiXaLw5gV-",
    "colab_type": "text"
   },
   "source": [
    "横方向(2次元目)に対するスライシング"
   ]
  },
  {
   "cell_type": "code",
   "execution_count": 0,
   "metadata": {
    "id": "ZkKU2l0-Z2sJ",
    "colab_type": "code",
    "colab": {}
   },
   "outputs": [],
   "source": [
    ""
   ]
  },
  {
   "cell_type": "code",
   "execution_count": 0,
   "metadata": {
    "id": "-1t-17fhaEGd",
    "colab_type": "code",
    "colab": {}
   },
   "outputs": [],
   "source": [
    ""
   ]
  },
  {
   "cell_type": "code",
   "execution_count": 0,
   "metadata": {
    "id": "QPED51j4aPsk",
    "colab_type": "code",
    "colab": {}
   },
   "outputs": [],
   "source": [
    ""
   ]
  },
  {
   "cell_type": "markdown",
   "metadata": {
    "id": "moE0LCX66OVU",
    "colab_type": "text"
   },
   "source": [
    "### 配列によるインデックス指定\n",
    "取り出したいインデックスを配列で指定"
   ]
  },
  {
   "cell_type": "code",
   "execution_count": 0,
   "metadata": {
    "id": "feUtF3nHabXk",
    "colab_type": "code",
    "colab": {}
   },
   "outputs": [],
   "source": [
    ""
   ]
  },
  {
   "cell_type": "markdown",
   "metadata": {
    "id": "imiRrjNKasje",
    "colab_type": "text"
   },
   "source": [
    "### ブールインデックス参照"
   ]
  },
  {
   "cell_type": "markdown",
   "metadata": {
    "id": "_Zpp__dJ6eMw",
    "colab_type": "text"
   },
   "source": [
    " ブーリアンの配列を引数とすることで，True となっている要素だけ スライシングする方法．\n",
    " \n",
    "例： [0,...,10] の配列 で，3の倍数だけ取り出すには:"
   ]
  },
  {
   "cell_type": "code",
   "execution_count": 0,
   "metadata": {
    "id": "wuZZJo4dapLq",
    "colab_type": "code",
    "colab": {}
   },
   "outputs": [],
   "source": [
    ""
   ]
  },
  {
   "cell_type": "markdown",
   "metadata": {
    "id": "dON-4tFMqybM",
    "colab_type": "text"
   },
   "source": [
    "### 行列やベクトル演算とnumpy"
   ]
  },
  {
   "cell_type": "markdown",
   "metadata": {
    "id": "7U3ceQFWoTcP",
    "colab_type": "text"
   },
   "source": [
    "単位行列\n",
    " * np.eye( n )  : n は行列のサイズ"
   ]
  },
  {
   "cell_type": "code",
   "execution_count": 0,
   "metadata": {
    "id": "EdEQOuJHoTkU",
    "colab_type": "code",
    "colab": {}
   },
   "outputs": [],
   "source": [
    ""
   ]
  },
  {
   "cell_type": "markdown",
   "metadata": {
    "id": "hlynshVxt7S7",
    "colab_type": "text"
   },
   "source": [
    "ベクトルの内積 \n",
    ">$x\\cdot y = \\sum_i x_i y_i$\n",
    "\n",
    "* 書き方は2通り"
   ]
  },
  {
   "cell_type": "code",
   "execution_count": 0,
   "metadata": {
    "id": "midzOTBOt7q1",
    "colab_type": "code",
    "colab": {}
   },
   "outputs": [],
   "source": [
    ""
   ]
  },
  {
   "cell_type": "markdown",
   "metadata": {
    "id": "CLoeTWtSuCPI",
    "colab_type": "text"
   },
   "source": [
    "行列 とベクトルの積\n",
    ">$Ax = \\sum_j A_{ij} x_j $"
   ]
  },
  {
   "cell_type": "code",
   "execution_count": 0,
   "metadata": {
    "id": "9H-QrjHmuCaY",
    "colab_type": "code",
    "colab": {}
   },
   "outputs": [],
   "source": [
    ""
   ]
  },
  {
   "cell_type": "markdown",
   "metadata": {
    "id": "m5Ezel3aoTr4",
    "colab_type": "text"
   },
   "source": [
    "行列同士の積\n",
    "> $AB = \\sum_j  A_{ij} B_{jk}$"
   ]
  },
  {
   "cell_type": "code",
   "execution_count": 0,
   "metadata": {
    "id": "Hkc5ssOaoTzF",
    "colab_type": "code",
    "colab": {}
   },
   "outputs": [],
   "source": [
    ""
   ]
  },
  {
   "cell_type": "markdown",
   "metadata": {
    "id": "wGtQd_wmo-8y",
    "colab_type": "text"
   },
   "source": [
    "行列の転置"
   ]
  },
  {
   "cell_type": "code",
   "execution_count": 0,
   "metadata": {
    "id": "TzN4FLJRpmOr",
    "colab_type": "code",
    "colab": {}
   },
   "outputs": [],
   "source": [
    ""
   ]
  },
  {
   "cell_type": "markdown",
   "metadata": {
    "id": "zfLLBHdBwnrz",
    "colab_type": "text"
   },
   "source": [
    "行列の上下反転と左右反転"
   ]
  },
  {
   "cell_type": "code",
   "execution_count": 0,
   "metadata": {
    "id": "lnpXj5c4wn2W",
    "colab_type": "code",
    "colab": {}
   },
   "outputs": [],
   "source": [
    ""
   ]
  },
  {
   "cell_type": "markdown",
   "metadata": {
    "id": "RNNNDtQaqVAv",
    "colab_type": "text"
   },
   "source": [
    "[問題] 行列同士の積を使って，99の表を生成しなさい．"
   ]
  },
  {
   "cell_type": "code",
   "execution_count": 0,
   "metadata": {
    "id": "7XkJH6GGqVLG",
    "colab_type": "code",
    "colab": {}
   },
   "outputs": [],
   "source": [
    ""
   ]
  },
  {
   "cell_type": "markdown",
   "metadata": {
    "id": "RpVcVWf8wN0Q",
    "colab_type": "text"
   },
   "source": [
    "[問題2] 転置と上下反転をうまく使って，行列 $\\left[\\begin{array}{cc}1,& 2\\\\ 4,&  3 \\end{array}\\right]$を時計回りに90度回転させなさい．\n",
    "\n",
    "* 上下反転 したのち，転置した場合\n",
    "> $\\left[\\begin{array}{cc}1,& 2\\\\ 4,&  3 \\end{array}\\right]  \\rightarrow \\left[\\begin{array}{cc}4,& 3\\\\ 1,&  2 \\end{array}\\right]\n",
    "\\rightarrow \\left[\\begin{array}{cc}4,& 1\\\\ 3,&  2 \\end{array}\\right] $ \n",
    "\n",
    "\n",
    "* 転置したのち，上下反転するとどうなるだろうか．"
   ]
  },
  {
   "cell_type": "markdown",
   "metadata": {
    "id": "cJ3a78b1eOCW",
    "colab_type": "text"
   },
   "source": [
    "### ユニバーサル関数(配列の要素への関数)"
   ]
  },
  {
   "cell_type": "markdown",
   "metadata": {
    "id": "vLMUoUznsYPU",
    "colab_type": "text"
   },
   "source": [
    "exp, log, sin, cos, abs などの関数"
   ]
  },
  {
   "cell_type": "code",
   "execution_count": 0,
   "metadata": {
    "id": "yFr7PtMxee3j",
    "colab_type": "code",
    "colab": {}
   },
   "outputs": [],
   "source": [
    ""
   ]
  },
  {
   "cell_type": "markdown",
   "metadata": {
    "id": "FgG_l5U4sc33",
    "colab_type": "text"
   },
   "source": [
    "最大値(max)，最小値(min)，総和(sum),  平均(mean)，標準偏差(std) など集計関数"
   ]
  },
  {
   "cell_type": "code",
   "execution_count": 0,
   "metadata": {
    "id": "WUXlfZbEemOi",
    "colab_type": "code",
    "colab": {}
   },
   "outputs": [],
   "source": [
    ""
   ]
  },
  {
   "cell_type": "markdown",
   "metadata": {
    "id": "7BNrkAp7stnF",
    "colab_type": "text"
   },
   "source": [
    "集計関数とaxis"
   ]
  },
  {
   "cell_type": "code",
   "execution_count": 0,
   "metadata": {
    "id": "5LFWyL9cfWCh",
    "colab_type": "code",
    "colab": {}
   },
   "outputs": [],
   "source": [
    ""
   ]
  },
  {
   "cell_type": "markdown",
   "metadata": {
    "id": "1gRj2WB_s8KN",
    "colab_type": "text"
   },
   "source": [
    "最大値や最小値 の インデックスの取得 \n",
    "  * argmax と argmax"
   ]
  },
  {
   "cell_type": "code",
   "execution_count": 0,
   "metadata": {
    "id": "eG3FJsbaeswP",
    "colab_type": "code",
    "colab": {}
   },
   "outputs": [],
   "source": [
    ""
   ]
  },
  {
   "cell_type": "markdown",
   "metadata": {
    "id": "QGIRt_nwtH1p",
    "colab_type": "text"
   },
   "source": [
    "ソート\n",
    "   * np.sort"
   ]
  },
  {
   "cell_type": "code",
   "execution_count": 0,
   "metadata": {
    "id": "Trl6h78qfzuC",
    "colab_type": "code",
    "colab": {}
   },
   "outputs": [],
   "source": [
    ""
   ]
  },
  {
   "cell_type": "markdown",
   "metadata": {
    "id": "yC9vKrxltKuC",
    "colab_type": "text"
   },
   "source": [
    "ソートしたと仮定したときのインデックスの取得\n",
    "\n",
    "*   argsort\n",
    "\n",
    "\n"
   ]
  },
  {
   "cell_type": "code",
   "execution_count": 0,
   "metadata": {
    "id": "9ts_R7pWgEI9",
    "colab_type": "code",
    "colab": {}
   },
   "outputs": [],
   "source": [
    ""
   ]
  },
  {
   "cell_type": "markdown",
   "metadata": {
    "id": "j3TcL0LkggEr",
    "colab_type": "text"
   },
   "source": [
    "### Matplotlib"
   ]
  },
  {
   "cell_type": "code",
   "execution_count": 0,
   "metadata": {
    "id": "ENxif01IhCWt",
    "colab_type": "code",
    "colab": {}
   },
   "outputs": [],
   "source": [
    "import matplotlib.pyplot as plt"
   ]
  },
  {
   "cell_type": "code",
   "execution_count": 0,
   "metadata": {
    "id": "JaB770WFhHQ_",
    "colab_type": "code",
    "colab": {}
   },
   "outputs": [],
   "source": [
    "x = np.arange(0, 6, 0.1)\n",
    "x"
   ]
  },
  {
   "cell_type": "code",
   "execution_count": 0,
   "metadata": {
    "id": "BVjG3qGWhUfd",
    "colab_type": "code",
    "colab": {}
   },
   "outputs": [],
   "source": [
    "plt.plot(x, np.sin(x), label=\"sin\")\n",
    "plt.plot(x, np.cos(x), label=\"cos\")"
   ]
  },
  {
   "cell_type": "code",
   "execution_count": 0,
   "metadata": {
    "id": "FPfLhqcRhsvz",
    "colab_type": "code",
    "colab": {}
   },
   "outputs": [],
   "source": [
    "d = np.sin(x)\n",
    "plt.hist(d,bins=20)"
   ]
  },
  {
   "cell_type": "code",
   "execution_count": 0,
   "metadata": {
    "id": "7MM9otcziL35",
    "colab_type": "code",
    "colab": {}
   },
   "outputs": [],
   "source": [
    "!wget https://www.cosy.sbg.ac.at/~pmeerw/Watermarking/lena_color.gif"
   ]
  },
  {
   "cell_type": "code",
   "execution_count": 0,
   "metadata": {
    "id": "GoB3SclWiq-4",
    "colab_type": "code",
    "colab": {}
   },
   "outputs": [],
   "source": [
    "img = plt.imread(\"lena_color.gif\")\n",
    "print(type(img))\n",
    "print(img.shape)\n",
    "plt.imshow(img)"
   ]
  },
  {
   "cell_type": "markdown",
   "metadata": {
    "id": "sQV_eBpz-Bs4",
    "colab_type": "text"
   },
   "source": [
    "事前処理：\n",
    "* 画素の色が[r,g,b,a]となっていたら，アルファチャネル(a)を除く\n",
    "* 0-255の整数の場合，0.0-1.0の小数値にする．"
   ]
  },
  {
   "cell_type": "code",
   "execution_count": 0,
   "metadata": {
    "id": "jrC7Q840-CAv",
    "colab_type": "code",
    "colab": {}
   },
   "outputs": [],
   "source": [
    "print(img[0,0])\n",
    "if len(img[0,0]) > 3 :\n",
    "  img = img[: , : , :3]\n",
    "if img.dtype != float:\n",
    "  img = img/255\n",
    "print(img[0,0])"
   ]
  },
  {
   "cell_type": "markdown",
   "metadata": {
    "id": "7h5XbKYO_s1K",
    "colab_type": "text"
   },
   "source": [
    "グレースケール化\n",
    " * 画素の[r,g,b]の平均値を計算する．"
   ]
  },
  {
   "cell_type": "code",
   "execution_count": 0,
   "metadata": {
    "id": "ibbmIXOQ_tH9",
    "colab_type": "code",
    "colab": {}
   },
   "outputs": [],
   "source": [
    "if len(img.shape) > 2:\n",
    "  img = img.mean(axis=2)\n",
    "print(img.shape)\n",
    "plt.imshow(img,cmap=\"gray\")"
   ]
  },
  {
   "cell_type": "markdown",
   "metadata": {
    "id": "tox5LSB32Eg-",
    "colab_type": "text"
   },
   "source": [
    "### 画像フィルタと畳み込み演算"
   ]
  },
  {
   "cell_type": "markdown",
   "metadata": {
    "id": "D1T6a2IR7ROD",
    "colab_type": "text"
   },
   "source": [
    "平滑化フィルタ\n",
    "> filter = $\\left[\\begin{array}{ccc}1/9, & 1/9, & 1/9 \\\\ 1/9, & 1/9, & 1/9 \\\\ 1/9, & 1/9, & 1/9  \\end{array}\\right]$\n"
   ]
  },
  {
   "cell_type": "code",
   "execution_count": 0,
   "metadata": {
    "id": "VuDFQOg12DOi",
    "colab_type": "code",
    "colab": {}
   },
   "outputs": [],
   "source": [
    "filt = np.ones((3,3))/9 \n",
    "filt"
   ]
  },
  {
   "cell_type": "markdown",
   "metadata": {
    "id": "f3fl8-_oAy5a",
    "colab_type": "text"
   },
   "source": [
    "これを画像の端からかける．"
   ]
  },
  {
   "cell_type": "code",
   "execution_count": 0,
   "metadata": {
    "id": "pmzv1M7SAzEH",
    "colab_type": "code",
    "colab": {}
   },
   "outputs": [],
   "source": [
    "h, w = img.shape\n",
    "\n",
    "after = np.zeros_like(img)\n",
    "\n",
    "for i in range(h-2):\n",
    "  for j in range(w-2):\n",
    "    after[i,j] = (img[i:i+3,j:j+3] * filt).sum() \n",
    "    \n",
    "plt.imshow(after, cmap=\"gray\" )\n",
    "img.max()"
   ]
  },
  {
   "cell_type": "markdown",
   "metadata": {
    "id": "aa73KnLXj34e",
    "colab_type": "text"
   },
   "source": [
    "### OpenCVで顔認識\n"
   ]
  },
  {
   "cell_type": "code",
   "execution_count": 0,
   "metadata": {
    "id": "F2YuSfr7j8Fe",
    "colab_type": "code",
    "colab": {}
   },
   "outputs": [],
   "source": [
    "!find /usr/ | grep haarcascade"
   ]
  },
  {
   "cell_type": "code",
   "execution_count": 0,
   "metadata": {
    "id": "3Rc1MhwNkYfN",
    "colab_type": "code",
    "colab": {}
   },
   "outputs": [],
   "source": [
    "path = \"/usr/local/lib/python2.7/dist-packages/cv2/data/haarcascade_frontalface_default.xml\""
   ]
  },
  {
   "cell_type": "code",
   "execution_count": 0,
   "metadata": {
    "id": "gQ1VueD7kcoA",
    "colab_type": "code",
    "colab": {}
   },
   "outputs": [],
   "source": [
    "import cv2\n",
    "model = cv2.CascadeClassifier(path) "
   ]
  },
  {
   "cell_type": "code",
   "execution_count": 0,
   "metadata": {
    "id": "Atmk98rGknls",
    "colab_type": "code",
    "colab": {}
   },
   "outputs": [],
   "source": [
    "a,b,h,w = model.detectMultiScale(img)[0]"
   ]
  },
  {
   "cell_type": "code",
   "execution_count": 0,
   "metadata": {
    "id": "8a-cL7zclA0E",
    "colab_type": "code",
    "colab": {}
   },
   "outputs": [],
   "source": [
    "plt.imshow(img[a:a+h,b:b+w])"
   ]
  }
 ],
 "metadata": {
  "colab": {
   "name": "note02.ipynb",
   "version": "0.3.2",
   "provenance": [
    {
     "file_id": "1OSqIsM0vTE0_p75QX4rm1F9F8_hGTeZ-",
     "timestamp": 1.555592604411E12
    }
   ],
   "collapsed_sections": [
    "cJ3a78b1eOCW",
    "j3TcL0LkggEr",
    "tox5LSB32Eg-",
    "aa73KnLXj34e"
   ]
  },
  "kernelspec": {
   "name": "python3",
   "display_name": "Python 3"
  }
 },
 "nbformat": 4,
 "nbformat_minor": 0
}
